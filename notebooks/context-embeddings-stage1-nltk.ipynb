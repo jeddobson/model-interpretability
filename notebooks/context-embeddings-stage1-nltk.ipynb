{
 "cells": [
  {
   "cell_type": "code",
   "execution_count": 1,
   "id": "c1ac4d62",
   "metadata": {},
   "outputs": [],
   "source": [
    "import nltk\n",
    "from nltk.tokenize import word_tokenize"
   ]
  },
  {
   "cell_type": "code",
   "execution_count": 2,
   "id": "1a70e91f",
   "metadata": {},
   "outputs": [],
   "source": [
    "fp = open(\"../texts/deephaven.txt\").read()\n",
    "tokens = word_tokenize(fp)\n",
    "tokens = [t.lower() for t in tokens]"
   ]
  },
  {
   "cell_type": "code",
   "execution_count": 3,
   "id": "10d05ce8",
   "metadata": {},
   "outputs": [
    {
     "data": {
      "text/plain": [
       "['are',\n",
       " 'drawn',\n",
       " 'from',\n",
       " 'that',\n",
       " 'town',\n",
       " 'itself',\n",
       " ',',\n",
       " 'and',\n",
       " 'the',\n",
       " 'characters']"
      ]
     },
     "execution_count": 3,
     "metadata": {},
     "output_type": "execute_result"
    }
   ],
   "source": [
    "tokens[243:253]"
   ]
  },
  {
   "cell_type": "code",
   "execution_count": 4,
   "id": "6ec60d0e",
   "metadata": {},
   "outputs": [],
   "source": [
    "text = nltk.Text(tokens)"
   ]
  },
  {
   "cell_type": "code",
   "execution_count": 5,
   "id": "a5f752f9",
   "metadata": {},
   "outputs": [
    {
     "name": "stdout",
     "output_type": "stream",
     "text": [
      "sea house work the shore time room and day me door place summer man\n",
      "order light funeral sky deephaven it\n"
     ]
    }
   ],
   "source": [
    "text.similar(\"town\")"
   ]
  },
  {
   "cell_type": "code",
   "execution_count": null,
   "id": "aaf013d9",
   "metadata": {},
   "outputs": [],
   "source": []
  }
 ],
 "metadata": {
  "kernelspec": {
   "display_name": "Python 3 (ipykernel)",
   "language": "python",
   "name": "python3"
  },
  "language_info": {
   "codemirror_mode": {
    "name": "ipython",
    "version": 3
   },
   "file_extension": ".py",
   "mimetype": "text/x-python",
   "name": "python",
   "nbconvert_exporter": "python",
   "pygments_lexer": "ipython3",
   "version": "3.9.15"
  }
 },
 "nbformat": 4,
 "nbformat_minor": 5
}
