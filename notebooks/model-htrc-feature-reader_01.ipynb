{
 "cells": [
  {
   "cell_type": "code",
   "execution_count": 1,
   "id": "5cc6041f",
   "metadata": {},
   "outputs": [],
   "source": [
    "from htrc_features import FeatureReader\n",
    "import numpy as np\n",
    "import pandas as pd"
   ]
  },
  {
   "cell_type": "code",
   "execution_count": 2,
   "id": "a0d41e9b",
   "metadata": {},
   "outputs": [],
   "source": [
    "def get_htrc_page_data(document):\n",
    "    fr = FeatureReader([document])\n",
    "    vol = next(fr.volumes())\n",
    "    ptc = vol.tokenlist(pos=False, case=False).reset_index().drop(['section'], axis=1)\n",
    "    page_list = set(ptc['page'])\n",
    "    \n",
    "    # extract tokens by page \n",
    "    tokens=list()\n",
    "    for page in page_list:\n",
    "        page_data = str()\n",
    "        \n",
    "        # operate on each token\n",
    "        for page_tokens in ptc.loc[ptc['page'] == page].iterrows():\n",
    "            if page_tokens[1][1].isalpha():\n",
    "                \n",
    "                # deal with frequency count by creating correct number of tokens\n",
    "                page_data += (' '.join([page_tokens[1][1]] * page_tokens[1][2])) + \" \"\n",
    "\n",
    "        tokens.append(page_data.split())\n",
    "    return tokens"
   ]
  },
  {
   "cell_type": "code",
   "execution_count": 3,
   "id": "acf3c42b",
   "metadata": {},
   "outputs": [],
   "source": [
    "# return bibliographic data\n",
    "def get_htrc_metadata(document):\n",
    "    fr = FeatureReader([document])\n",
    "    vol = next(fr.volumes())\n",
    "    return([vol.author[0],vol.title,vol.year])"
   ]
  },
  {
   "cell_type": "code",
   "execution_count": 4,
   "id": "a1738379",
   "metadata": {},
   "outputs": [],
   "source": [
    "# htids for two classes \n",
    "chase_novels = [\"mdp.39015004308212\",\n",
    "                \"mdp.39015024849682\",\n",
    "                \"coo.31924014522449\"]\n",
    "jewett_novels = [\"uc1.32106015388678\",\n",
    "                \"uc2.ark:/13960/t9w08xb8w\",\n",
    "                \"uiug.30112012873441\"]"
   ]
  },
  {
   "cell_type": "code",
   "execution_count": 5,
   "id": "8cee3fcc",
   "metadata": {},
   "outputs": [
    {
     "data": {
      "text/html": [
       "<div>\n",
       "<style scoped>\n",
       "    .dataframe tbody tr th:only-of-type {\n",
       "        vertical-align: middle;\n",
       "    }\n",
       "\n",
       "    .dataframe tbody tr th {\n",
       "        vertical-align: top;\n",
       "    }\n",
       "\n",
       "    .dataframe thead th {\n",
       "        text-align: right;\n",
       "    }\n",
       "</style>\n",
       "<table border=\"1\" class=\"dataframe\">\n",
       "  <thead>\n",
       "    <tr style=\"text-align: right;\">\n",
       "      <th></th>\n",
       "      <th>Author</th>\n",
       "      <th>Title</th>\n",
       "      <th>Publication Year</th>\n",
       "    </tr>\n",
       "  </thead>\n",
       "  <tbody>\n",
       "    <tr>\n",
       "      <th>0</th>\n",
       "      <td>Chase, Mary Ellen, 1887-1973.</td>\n",
       "      <td>Silas Crockett,</td>\n",
       "      <td>1943</td>\n",
       "    </tr>\n",
       "    <tr>\n",
       "      <th>1</th>\n",
       "      <td>Chase, Mary Ellen, 1887-1973.</td>\n",
       "      <td>Windswept,</td>\n",
       "      <td>1941</td>\n",
       "    </tr>\n",
       "    <tr>\n",
       "      <th>2</th>\n",
       "      <td>Chase, Mary Ellen, 1887-1973.</td>\n",
       "      <td>Mary Peters,</td>\n",
       "      <td>1938</td>\n",
       "    </tr>\n",
       "    <tr>\n",
       "      <th>3</th>\n",
       "      <td>Jewett, Sarah Orne, 1849-1909.</td>\n",
       "      <td>The country of the pointed firs.</td>\n",
       "      <td>1924</td>\n",
       "    </tr>\n",
       "    <tr>\n",
       "      <th>4</th>\n",
       "      <td>Jewett, Sarah Orne, 1849-1909.</td>\n",
       "      <td>Deephaven.</td>\n",
       "      <td>1877</td>\n",
       "    </tr>\n",
       "    <tr>\n",
       "      <th>5</th>\n",
       "      <td>Jewett, Sarah Orne, 1849-1909.</td>\n",
       "      <td>A country doctor.</td>\n",
       "      <td>1970</td>\n",
       "    </tr>\n",
       "  </tbody>\n",
       "</table>\n",
       "</div>"
      ],
      "text/plain": [
       "                           Author                             Title  \\\n",
       "0   Chase, Mary Ellen, 1887-1973.                   Silas Crockett,   \n",
       "1   Chase, Mary Ellen, 1887-1973.                        Windswept,   \n",
       "2   Chase, Mary Ellen, 1887-1973.                      Mary Peters,   \n",
       "3  Jewett, Sarah Orne, 1849-1909.  The country of the pointed firs.   \n",
       "4  Jewett, Sarah Orne, 1849-1909.                        Deephaven.   \n",
       "5  Jewett, Sarah Orne, 1849-1909.                 A country doctor.   \n",
       "\n",
       "   Publication Year  \n",
       "0              1943  \n",
       "1              1941  \n",
       "2              1938  \n",
       "3              1924  \n",
       "4              1877  \n",
       "5              1970  "
      ]
     },
     "execution_count": 5,
     "metadata": {},
     "output_type": "execute_result"
    }
   ],
   "source": [
    "# construct dataframe to display texts\n",
    "bib = list()\n",
    "for doc in chase_novels + jewett_novels:\n",
    "    bib.append(get_htrc_metadata(doc))\n",
    "df = pd.DataFrame(bib,columns=[\"Author\",\"Title\",\"Publication Year\"])\n",
    "df"
   ]
  }
 ],
 "metadata": {
  "kernelspec": {
   "display_name": "Python 3 (ipykernel)",
   "language": "python",
   "name": "python3"
  },
  "language_info": {
   "codemirror_mode": {
    "name": "ipython",
    "version": 3
   },
   "file_extension": ".py",
   "mimetype": "text/x-python",
   "name": "python",
   "nbconvert_exporter": "python",
   "pygments_lexer": "ipython3",
   "version": "3.9.15"
  }
 },
 "nbformat": 4,
 "nbformat_minor": 5
}
