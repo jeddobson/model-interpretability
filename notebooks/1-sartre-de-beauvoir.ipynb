{
 "cells": [
  {
   "cell_type": "markdown",
   "id": "7170656b",
   "metadata": {},
   "source": [
    "This is heavily based on the sample notebooks, and compares the work of Sartre and De Beauvoir, as pulled from HathiTrust Digital Library"
   ]
  },
  {
   "cell_type": "code",
   "execution_count": 44,
   "id": "25c310f1",
   "metadata": {},
   "outputs": [
    {
     "name": "stdout",
     "output_type": "stream",
     "text": [
      "Requirement already satisfied: htrc-feature-reader in /Users/sanjana/opt/anaconda3/lib/python3.9/site-packages (2.0.7)\n",
      "Requirement already satisfied: python-rapidjson in /Users/sanjana/opt/anaconda3/lib/python3.9/site-packages (from htrc-feature-reader) (1.10)\n",
      "Requirement already satisfied: pymarc in /Users/sanjana/opt/anaconda3/lib/python3.9/site-packages (from htrc-feature-reader) (5.0.0)\n",
      "Requirement already satisfied: pandas>=0.24 in /Users/sanjana/opt/anaconda3/lib/python3.9/site-packages (from htrc-feature-reader) (1.4.2)\n",
      "Requirement already satisfied: requests in /Users/sanjana/opt/anaconda3/lib/python3.9/site-packages (from htrc-feature-reader) (2.27.1)\n",
      "Requirement already satisfied: six in /Users/sanjana/opt/anaconda3/lib/python3.9/site-packages (from htrc-feature-reader) (1.16.0)\n",
      "Requirement already satisfied: python-dateutil>=2.8.1 in /Users/sanjana/opt/anaconda3/lib/python3.9/site-packages (from pandas>=0.24->htrc-feature-reader) (2.8.2)\n",
      "Requirement already satisfied: pytz>=2020.1 in /Users/sanjana/opt/anaconda3/lib/python3.9/site-packages (from pandas>=0.24->htrc-feature-reader) (2021.3)\n",
      "Requirement already satisfied: numpy>=1.18.5 in /Users/sanjana/opt/anaconda3/lib/python3.9/site-packages (from pandas>=0.24->htrc-feature-reader) (1.21.5)\n",
      "Requirement already satisfied: charset-normalizer~=2.0.0 in /Users/sanjana/opt/anaconda3/lib/python3.9/site-packages (from requests->htrc-feature-reader) (2.0.4)\n",
      "Requirement already satisfied: certifi>=2017.4.17 in /Users/sanjana/opt/anaconda3/lib/python3.9/site-packages (from requests->htrc-feature-reader) (2021.10.8)\n",
      "Requirement already satisfied: urllib3<1.27,>=1.21.1 in /Users/sanjana/opt/anaconda3/lib/python3.9/site-packages (from requests->htrc-feature-reader) (1.26.9)\n",
      "Requirement already satisfied: idna<4,>=2.5 in /Users/sanjana/opt/anaconda3/lib/python3.9/site-packages (from requests->htrc-feature-reader) (3.3)\n"
     ]
    }
   ],
   "source": [
    "!pip install htrc-feature-reader"
   ]
  },
  {
   "cell_type": "code",
   "execution_count": 143,
   "id": "283b5d7e",
   "metadata": {},
   "outputs": [],
   "source": [
    "from htrc_features import FeatureReader\n",
    "import numpy as np\n",
    "import pandas as pd\n",
    "import seaborn as sns\n",
    "import matplotlib.pyplot as plt\n",
    "import random"
   ]
  },
  {
   "cell_type": "code",
   "execution_count": 46,
   "id": "58e04be2",
   "metadata": {},
   "outputs": [],
   "source": [
    "# input: document, output: tokens \n",
    "def get_htrc_page_data(document):\n",
    "    fr = FeatureReader([document])\n",
    "    vol = next(fr.volumes())\n",
    "    ptc = vol.tokenlist(pos=False, case=False).reset_index().drop(['section'], axis=1)\n",
    "    page_list = set(ptc['page'])\n",
    "    \n",
    "    # extract tokens by page \n",
    "    tokens=list()\n",
    "    for page in page_list:\n",
    "        page_data = str()\n",
    "        \n",
    "        # operate on each token\n",
    "        for page_tokens in ptc.loc[ptc['page'] == page].iterrows():\n",
    "            if page_tokens[1][1].isalpha():\n",
    "                \n",
    "                # deal with frequency count by creating correct number of tokens\n",
    "                page_data += (' '.join([page_tokens[1][1]] * page_tokens[1][2])) + \" \"\n",
    "\n",
    "        tokens.append(page_data.split())\n",
    "    return tokens"
   ]
  },
  {
   "cell_type": "code",
   "execution_count": 47,
   "id": "9f2337d1",
   "metadata": {},
   "outputs": [],
   "source": [
    "# input: document, output: bibliographic data\n",
    "def get_htrc_metadata(document):\n",
    "    fr = FeatureReader([document])\n",
    "    vol = next(fr.volumes())\n",
    "    return([vol.author[0],vol.title,vol.year])"
   ]
  },
  {
   "cell_type": "code",
   "execution_count": 48,
   "id": "821ac6fc",
   "metadata": {},
   "outputs": [],
   "source": [
    "# htids for two classes/books\n",
    "sartre = [\"inu.30000007066859\", \"mdp.39015009099337\", \"pst.000028362555\"]\n",
    "de_beauvoir = [\"inu.30000100635840\", \"mdp.39015004272384\", \"mdp.39015010722521\"]"
   ]
  },
  {
   "cell_type": "code",
   "execution_count": 49,
   "id": "c1e8562c",
   "metadata": {},
   "outputs": [
    {
     "data": {
      "text/html": [
       "<div>\n",
       "<style scoped>\n",
       "    .dataframe tbody tr th:only-of-type {\n",
       "        vertical-align: middle;\n",
       "    }\n",
       "\n",
       "    .dataframe tbody tr th {\n",
       "        vertical-align: top;\n",
       "    }\n",
       "\n",
       "    .dataframe thead th {\n",
       "        text-align: right;\n",
       "    }\n",
       "</style>\n",
       "<table border=\"1\" class=\"dataframe\">\n",
       "  <thead>\n",
       "    <tr style=\"text-align: right;\">\n",
       "      <th></th>\n",
       "      <th>Author</th>\n",
       "      <th>Title</th>\n",
       "      <th>Publication Year</th>\n",
       "    </tr>\n",
       "  </thead>\n",
       "  <tbody>\n",
       "    <tr>\n",
       "      <th>0</th>\n",
       "      <td>Sartre, Jean-Paul, 1905-1980</td>\n",
       "      <td>The age of reason.</td>\n",
       "      <td>1964</td>\n",
       "    </tr>\n",
       "    <tr>\n",
       "      <th>1</th>\n",
       "      <td>Sartre, Jean-Paul, 1905-1980.</td>\n",
       "      <td>Troubled sleep.</td>\n",
       "      <td>1964</td>\n",
       "    </tr>\n",
       "    <tr>\n",
       "      <th>2</th>\n",
       "      <td>Sartre, Jean-Paul, 1905-1980</td>\n",
       "      <td>The wall, and other stories /</td>\n",
       "      <td>1948</td>\n",
       "    </tr>\n",
       "    <tr>\n",
       "      <th>3</th>\n",
       "      <td>Beauvoir, Simone de, 1908-1986</td>\n",
       "      <td>The mandarins /</td>\n",
       "      <td>2005</td>\n",
       "    </tr>\n",
       "    <tr>\n",
       "      <th>4</th>\n",
       "      <td>Beauvoir, Simone de, 1908-1986.</td>\n",
       "      <td>When things of the spirit come first : five ea...</td>\n",
       "      <td>1982</td>\n",
       "    </tr>\n",
       "    <tr>\n",
       "      <th>5</th>\n",
       "      <td>Beauvoir, Simone de, 1908-1986.</td>\n",
       "      <td>The blood of others,</td>\n",
       "      <td>1948</td>\n",
       "    </tr>\n",
       "  </tbody>\n",
       "</table>\n",
       "</div>"
      ],
      "text/plain": [
       "                            Author  \\\n",
       "0     Sartre, Jean-Paul, 1905-1980   \n",
       "1    Sartre, Jean-Paul, 1905-1980.   \n",
       "2     Sartre, Jean-Paul, 1905-1980   \n",
       "3   Beauvoir, Simone de, 1908-1986   \n",
       "4  Beauvoir, Simone de, 1908-1986.   \n",
       "5  Beauvoir, Simone de, 1908-1986.   \n",
       "\n",
       "                                               Title  Publication Year  \n",
       "0                                 The age of reason.              1964  \n",
       "1                                    Troubled sleep.              1964  \n",
       "2                      The wall, and other stories /              1948  \n",
       "3                                    The mandarins /              2005  \n",
       "4  When things of the spirit come first : five ea...              1982  \n",
       "5                               The blood of others,              1948  "
      ]
     },
     "execution_count": 49,
     "metadata": {},
     "output_type": "execute_result"
    }
   ],
   "source": [
    "# construct dataframe to display texts\n",
    "bib = list()\n",
    "for doc in sartre + de_beauvoir:\n",
    "    bib.append(get_htrc_metadata(doc))\n",
    "df = pd.DataFrame(bib,columns=[\"Author\",\"Title\",\"Publication Year\"])\n",
    "df"
   ]
  },
  {
   "cell_type": "code",
   "execution_count": 50,
   "id": "0a778deb",
   "metadata": {},
   "outputs": [],
   "source": [
    "page_tokens = get_htrc_page_data(sartre[1])"
   ]
  },
  {
   "cell_type": "code",
   "execution_count": 51,
   "id": "683baa42",
   "metadata": {},
   "outputs": [],
   "source": [
    "tokens = [w for p in page_tokens for w in p]"
   ]
  },
  {
   "cell_type": "code",
   "execution_count": 52,
   "id": "dce3cdc1",
   "metadata": {},
   "outputs": [
    {
     "data": {
      "text/plain": [
       "124319"
      ]
     },
     "execution_count": 52,
     "metadata": {},
     "output_type": "execute_result"
    }
   ],
   "source": [
    "len(tokens)"
   ]
  },
  {
   "cell_type": "code",
   "execution_count": 53,
   "id": "b95318b9",
   "metadata": {},
   "outputs": [
    {
     "data": {
      "text/plain": [
       "['i',\n",
       " 'a',\n",
       " 'about',\n",
       " 'after',\n",
       " 'analysis',\n",
       " 'and',\n",
       " 'and',\n",
       " 'any',\n",
       " 'be',\n",
       " 'bitter',\n",
       " 'by',\n",
       " 'by',\n",
       " 'captured',\n",
       " 'compelling',\n",
       " 'considered']"
      ]
     },
     "execution_count": 53,
     "metadata": {},
     "output_type": "execute_result"
    }
   ],
   "source": [
    "tokens[:15]"
   ]
  },
  {
   "cell_type": "code",
   "execution_count": 54,
   "id": "a09528b6",
   "metadata": {},
   "outputs": [
    {
     "data": {
      "text/plain": [
       "303"
      ]
     },
     "execution_count": 54,
     "metadata": {},
     "output_type": "execute_result"
    }
   ],
   "source": [
    "tokens.count(\"man\")"
   ]
  },
  {
   "cell_type": "code",
   "execution_count": 55,
   "id": "7412efba",
   "metadata": {},
   "outputs": [
    {
     "data": {
      "text/plain": [
       "61"
      ]
     },
     "execution_count": 55,
     "metadata": {},
     "output_type": "execute_result"
    }
   ],
   "source": [
    "tokens.count(\"woman\")"
   ]
  },
  {
   "cell_type": "code",
   "execution_count": 56,
   "id": "a604d22d",
   "metadata": {},
   "outputs": [
    {
     "data": {
      "text/plain": [
       "10"
      ]
     },
     "execution_count": 56,
     "metadata": {},
     "output_type": "execute_result"
    }
   ],
   "source": [
    "tokens.count(\"power\")"
   ]
  },
  {
   "cell_type": "code",
   "execution_count": 57,
   "id": "7d208f8d",
   "metadata": {},
   "outputs": [
    {
     "data": {
      "text/plain": [
       "3"
      ]
     },
     "execution_count": 57,
     "metadata": {},
     "output_type": "execute_result"
    }
   ],
   "source": [
    "tokens.count(\"politics\")"
   ]
  },
  {
   "cell_type": "code",
   "execution_count": 58,
   "id": "70586fdf",
   "metadata": {},
   "outputs": [
    {
     "data": {
      "text/plain": [
       "258"
      ]
     },
     "execution_count": 58,
     "metadata": {},
     "output_type": "execute_result"
    }
   ],
   "source": [
    "tokens.count(\"thought\")"
   ]
  },
  {
   "cell_type": "code",
   "execution_count": 76,
   "id": "06663f79",
   "metadata": {},
   "outputs": [
    {
     "data": {
      "text/plain": [
       "4"
      ]
     },
     "execution_count": 76,
     "metadata": {},
     "output_type": "execute_result"
    }
   ],
   "source": [
    "tokens.count(\"virtue\")"
   ]
  },
  {
   "cell_type": "code",
   "execution_count": 92,
   "id": "2e29543e",
   "metadata": {},
   "outputs": [],
   "source": [
    "# create labels for classifier\n",
    "labels = [\"sartre\"] * len(sartre) + [\"de beauvoir\"] * len(de_beauvoir)"
   ]
  },
  {
   "cell_type": "code",
   "execution_count": 93,
   "id": "61fb87ed",
   "metadata": {},
   "outputs": [],
   "source": [
    "# construct text for consumption into dtm\n",
    "raw_data = list()\n",
    "for doc in sartre + de_beauvoir:\n",
    "    page_data = get_htrc_page_data(doc)\n",
    "    tokens = ' '.join([w for p in page_data for w in p])\n",
    "    raw_data.append(tokens)"
   ]
  },
  {
   "cell_type": "code",
   "execution_count": 94,
   "id": "2be837c5",
   "metadata": {},
   "outputs": [],
   "source": [
    "from sklearn.feature_extraction.text import CountVectorizer"
   ]
  },
  {
   "cell_type": "code",
   "execution_count": 95,
   "id": "026ab391",
   "metadata": {},
   "outputs": [],
   "source": [
    "vec = CountVectorizer(input='content',\n",
    "                             stop_words='english',\n",
    "                             strip_accents='unicode')"
   ]
  },
  {
   "cell_type": "code",
   "execution_count": 96,
   "id": "10c8185f",
   "metadata": {},
   "outputs": [],
   "source": [
    "dtm = vec.fit_transform(raw_data)\n",
    "dtm_dense = dtm.todense()\n",
    "dc, vc = dtm.shape\n",
    "idx2voc = {v:k for k, v in vec.vocabulary_.items()}"
   ]
  },
  {
   "cell_type": "code",
   "execution_count": 97,
   "id": "2fb9386f",
   "metadata": {},
   "outputs": [],
   "source": [
    "def term_debug(term):\n",
    "    idx = vec.vocabulary_[term]\n",
    "    print(\"total count: {0}\".format(int(np.sum(dtm,axis=0)[:, idx])))\n",
    "    print(\"class 0: {0}\".format(count_matrix[0,idx]))\n",
    "    print(\"class 1: {0}\".format(count_matrix[1,idx]))"
   ]
  },
  {
   "cell_type": "code",
   "execution_count": 98,
   "id": "e53acede",
   "metadata": {},
   "outputs": [],
   "source": [
    "# create priors and initialize matrices\n",
    "priors = np.array([0.1 for i in range(vc)])\n",
    "z_scores = np.empty(priors.shape[0])\n",
    "count_matrix = np.empty([2, vc], dtype=np.float32)\n",
    "\n",
    "# Summarize Class 0\n",
    "count_matrix[0, :] = np.sum((dtm[0],dtm[2],dtm[3]),axis = 0).todense()\n",
    "\n",
    "# Summarize Class 1\n",
    "count_matrix[1, :] = np.sum((dtm[1],dtm[4],dtm[5]),axis = 0).todense()"
   ]
  },
  {
   "cell_type": "code",
   "execution_count": 84,
   "id": "283fd570",
   "metadata": {},
   "outputs": [],
   "source": [
    "a0 = np.sum(priors)\n",
    "n1 = 1.*np.sum(count_matrix[0,:])\n",
    "n2 = 1.*np.sum(count_matrix[1,:])"
   ]
  },
  {
   "cell_type": "code",
   "execution_count": 85,
   "id": "a4f1f997",
   "metadata": {},
   "outputs": [],
   "source": [
    "for i in range(vc):\n",
    "    # compute delta\n",
    "    term1 = np.log((count_matrix[0,i] + priors[i])/(n1 + a0 - count_matrix[0,i] - priors[i]))\n",
    "    term2 = np.log((count_matrix[1,i] + priors[i])/(n2 + a0 - count_matrix[1,i] - priors[i]))        \n",
    "    delta = term1 - term2\n",
    "    \n",
    "    # compute variance on delta\n",
    "    var = 1./(count_matrix[0,i] + priors[i]) + 1./(count_matrix[1,i] + priors[i])\n",
    "    \n",
    "    # store final score\n",
    "    z_scores[i] = delta / np.sqrt(var)"
   ]
  },
  {
   "cell_type": "code",
   "execution_count": 86,
   "id": "f666f766",
   "metadata": {},
   "outputs": [
    {
     "data": {
      "text/plain": [
       "[('brunet', -22.334254612613748),\n",
       " ('mme', -10.719908062151314),\n",
       " ('anne', -10.609038103492859),\n",
       " ('round', -10.361830432768647),\n",
       " ('andree', -10.120097458401407),\n",
       " ('gomez', -9.949333655623834),\n",
       " ('lisa', -9.19024214799066),\n",
       " ('men', -8.919050036334731),\n",
       " ('war', -8.171945939524852),\n",
       " ('paul', -8.100988577429984),\n",
       " ('stared', -7.647325526120154),\n",
       " ('hell', -7.44895495262391),\n",
       " ('soldiers', -7.367457953057242),\n",
       " ('road', -7.123109376006659),\n",
       " ('rose', -6.938517611612769),\n",
       " ('germans', -6.76101098524025),\n",
       " ('jean', -6.687131930809218),\n",
       " ('forward', -6.60164028698299),\n",
       " ('train', -6.572620056873001),\n",
       " ('peace', -6.473033378777957),\n",
       " ('moved', -6.465132869097542),\n",
       " ('schneider', -6.375937351943019),\n",
       " ('bread', -6.271791561823895),\n",
       " ('yvonne', -6.268674551630276),\n",
       " ('shouted', -6.199641982276482)]"
      ]
     },
     "execution_count": 86,
     "metadata": {},
     "output_type": "execute_result"
    }
   ],
   "source": [
    "# extract most significant terms\n",
    "[(idx2voc[i], z_scores[i]) for i in np.argsort(z_scores)][:25]"
   ]
  },
  {
   "cell_type": "code",
   "execution_count": 87,
   "id": "aa0b5165",
   "metadata": {},
   "outputs": [
    {
     "name": "stdout",
     "output_type": "stream",
     "text": [
      "mathieu: 794\n",
      "brunet: 561\n",
      "ivich: 537\n",
      "boris: 382\n",
      "daniel: 376\n",
      "marcelle: 346\n",
      "pinette: 340\n",
      "schneider: 304\n",
      "lola: 302\n",
      "men: 185\n"
     ]
    }
   ],
   "source": [
    "# calculate absolute differences between our first and second text and display\n",
    "# top 10 terms with the greatest difference. \n",
    "abs_diff = np.abs(dtm[0] - dtm[1])\n",
    "for i in np.argsort(abs_diff.toarray()[0])[::-1][:10]:\n",
    "    print(\"{0}: {1}\".format(idx2voc[i],abs_diff.toarray()[0][i]))"
   ]
  },
  {
   "cell_type": "code",
   "execution_count": 88,
   "id": "1e6044e8",
   "metadata": {},
   "outputs": [
    {
     "data": {
      "image/png": "[encoded data removed]",
      "text/plain": [
       "<Figure size 1440x1080 with 1 Axes>"
      ]
     },
     "metadata": {},
     "output_type": "display_data"
    }
   ],
   "source": [
    "# simple PCA on DTM data\n",
    "from sklearn.decomposition import PCA\n",
    "pca = PCA(n_components=2) # two components for plotting\n",
    "plot_data = pca.fit_transform(np.asarray(dtm_dense))\n",
    "\n",
    "from matplotlib import pyplot as plt\n",
    "xs, ys = plot_data[:, 0], plot_data[:, 1]\n",
    "fig = plt.figure(figsize=(20, 15))\n",
    "plt.clf()\n",
    "plt.title(\"PCA\")\n",
    "plt.style.use('ggplot')\n",
    "plt.scatter(xs, ys, marker = '^')\n",
    "cdict = {'sartre': 'green', 'de beauvoir': 'blue'}\n",
    "for i, w in enumerate(labels):\n",
    "    plt.annotate(w, xy = (xs[i], ys[i]), xytext = (3, 3),\n",
    "                 textcoords = 'offset points', ha = 'left', va = 'top', c = cdict[labels[i]])\n",
    "plt.show()"
   ]
  },
  {
   "cell_type": "code",
   "execution_count": 99,
   "id": "a70fad07",
   "metadata": {},
   "outputs": [
    {
     "name": "stdout",
     "output_type": "stream",
     "text": [
      "total count: 986\n",
      "class 0: 556.0\n",
      "class 1: 430.0\n"
     ]
    }
   ],
   "source": [
    "term_debug('man')"
   ]
  },
  {
   "cell_type": "code",
   "execution_count": 100,
   "id": "fd440ebe",
   "metadata": {},
   "outputs": [
    {
     "name": "stdout",
     "output_type": "stream",
     "text": [
      "total count: 566\n",
      "class 0: 336.0\n",
      "class 1: 230.0\n"
     ]
    }
   ],
   "source": [
    "term_debug('woman')"
   ]
  },
  {
   "cell_type": "code",
   "execution_count": 101,
   "id": "fc0c7397",
   "metadata": {},
   "outputs": [
    {
     "name": "stdout",
     "output_type": "stream",
     "text": [
      "total count: 11\n",
      "class 0: 4.0\n",
      "class 1: 7.0\n"
     ]
    }
   ],
   "source": [
    "term_debug('virtue')"
   ]
  },
  {
   "cell_type": "code",
   "execution_count": 125,
   "id": "b8c2fc67",
   "metadata": {},
   "outputs": [],
   "source": [
    "from sklearn.linear_model import SGDClassifier\n",
    "from sklearn import metrics\n",
    "\n",
    "clf = SGDClassifier(tol=None,max_iter=1000,random_state=50).fit(dtm,labels)"
   ]
  },
  {
   "cell_type": "code",
   "execution_count": 136,
   "id": "f61f95a4",
   "metadata": {},
   "outputs": [
    {
     "data": {
      "text/plain": [
       "<AxesSubplot:title={'center':'Key Features: Sartre'}>"
      ]
     },
     "execution_count": 136,
     "metadata": {},
     "output_type": "execute_result"
    },
    {
     "data": {
      "image/png": "[encoded data removed]",
      "text/plain": [
       "<Figure size 1440x360 with 1 Axes>"
      ]
     },
     "metadata": {},
     "output_type": "display_data"
    }
   ],
   "source": [
    "df = pd.DataFrame([clf.coef_[0][idx] for idx in np.argsort(clf.coef_[0])[:45]],\n",
    "                  index = [vec.get_feature_names_out()[idx] for idx in np.argsort(clf.coef_[0])[:45]])\n",
    "df.plot(figsize=(20, 5),kind='bar',title='Key Features: Sartre',legend=False)"
   ]
  },
  {
   "cell_type": "code",
   "execution_count": 129,
   "id": "2c72794e",
   "metadata": {},
   "outputs": [
    {
     "data": {
      "image/png": "[encoded data removed]",
      "text/plain": [
       "<Figure size 432x288 with 2 Axes>"
      ]
     },
     "metadata": {},
     "output_type": "display_data"
    }
   ],
   "source": [
    "p1 = sns.heatmap(df)"
   ]
  },
  {
   "cell_type": "code",
   "execution_count": 110,
   "id": "03579ebd",
   "metadata": {},
   "outputs": [
    {
     "data": {
      "text/plain": [
       "AffinityPropagation(affinity='precomputed', damping=0.99, max_iter=1000)"
      ]
     },
     "execution_count": 110,
     "metadata": {},
     "output_type": "execute_result"
    }
   ],
   "source": [
    "from sklearn.cluster import AffinityPropagation\n",
    "from sklearn.metrics.pairwise import cosine_similarity\n",
    "cosine_dist_matrix = 1 - cosine_similarity(dtm)\n",
    "\n",
    "%timeit\n",
    "affprop = AffinityPropagation(random_state=None,affinity=\"precomputed\", max_iter=1000, damping=0.99)\n",
    "affprop.fit(cosine_dist_matrix)"
   ]
  },
  {
   "cell_type": "code",
   "execution_count": 111,
   "id": "2e7ffd6d",
   "metadata": {},
   "outputs": [
    {
     "name": "stdout",
     "output_type": "stream",
     "text": [
      "0 sartre sartre sartre de beauvoir de beauvoir de beauvoir\n"
     ]
    }
   ],
   "source": [
    "# Display clusters\n",
    "for cluster in np.unique(affprop.labels_):\n",
    "    print(cluster,\" \".join(np.array(labels)[(affprop.labels_ == cluster)]))"
   ]
  },
  {
   "cell_type": "code",
   "execution_count": 112,
   "id": "d6d17b0b",
   "metadata": {},
   "outputs": [],
   "source": [
    "page_tokens = get_htrc_page_data(de_beauvoir[1])"
   ]
  },
  {
   "cell_type": "code",
   "execution_count": 113,
   "id": "dfe423fe",
   "metadata": {},
   "outputs": [],
   "source": [
    "tokens = [w for p in page_tokens for w in p]"
   ]
  },
  {
   "cell_type": "code",
   "execution_count": 115,
   "id": "66d6da58",
   "metadata": {},
   "outputs": [
    {
     "data": {
      "text/plain": [
       "['beauvoir',\n",
       " 'blood',\n",
       " 'boupacha',\n",
       " 'brigitte',\n",
       " 'burn',\n",
       " 'by',\n",
       " 'by',\n",
       " 'came',\n",
       " 'circumstance',\n",
       " 'daughter',\n",
       " 'day',\n",
       " 'day',\n",
       " 'de',\n",
       " 'de',\n",
       " 'death']"
      ]
     },
     "execution_count": 115,
     "metadata": {},
     "output_type": "execute_result"
    }
   ],
   "source": [
    "tokens[20:35]"
   ]
  },
  {
   "cell_type": "code",
   "execution_count": 167,
   "id": "45944530",
   "metadata": {},
   "outputs": [
    {
     "data": {
      "image/png": "[encoded data removed]",
      "text/plain": [
       "<Figure size 432x288 with 1 Axes>"
      ]
     },
     "metadata": {},
     "output_type": "display_data"
    }
   ],
   "source": [
    "# each time you run this, it'll pick 5 random tokens and graph them vs frequency (can change the range of the for loop)\n",
    "# add a grid\n",
    "plt.grid()\n",
    "\n",
    "# label axes\n",
    "plt.xlabel(\"$token$\")\n",
    "plt.ylabel(\"$frequency$\")\n",
    "\n",
    "max = len(tokens)\n",
    "\n",
    "for i in range(5):\n",
    "    # generate a random index between 0 and the max\n",
    "    i = int(random.randint(0,max))\n",
    "    \n",
    "    # plot this token\n",
    "    x = str(tokens[i])\n",
    "    y = tokens.count(x)\n",
    "    plt.plot(x, y, 'ko')\n",
    "\n",
    "plt.show()"
   ]
  },
  {
   "cell_type": "code",
   "execution_count": 181,
   "id": "1aab23d6",
   "metadata": {},
   "outputs": [
    {
     "data": {
      "image/png": "[encoded data removed]",
      "text/plain": [
       "<Figure size 432x288 with 1 Axes>"
      ]
     },
     "metadata": {},
     "output_type": "display_data"
    }
   ],
   "source": [
    "# same, with 50 tokens\n",
    "# add a grid\n",
    "plt.grid()\n",
    "\n",
    "# label axes\n",
    "plt.xlabel(\"$token$\")\n",
    "plt.ylabel(\"$frequency$\")\n",
    "\n",
    "plt.xticks(rotation=45, ha='right')\n",
    "\n",
    "max = len(tokens)\n",
    "\n",
    "for i in range(30):\n",
    "    # generate a random index between 0 and the max\n",
    "    i = int(random.randint(0,max))\n",
    "    # plot this token\n",
    "    x = str(tokens[i])\n",
    "    y = tokens.count(x)\n",
    "    plt.plot(x, y, 'bo')\n",
    "\n",
    "plt.show()"
   ]
  },
  {
   "cell_type": "code",
   "execution_count": null,
   "id": "451d21a6",
   "metadata": {},
   "outputs": [],
   "source": []
  }
 ],
 "metadata": {
  "kernelspec": {
   "display_name": "Python 3 (ipykernel)",
   "language": "python",
   "name": "python3"
  },
  "language_info": {
   "codemirror_mode": {
    "name": "ipython",
    "version": 3
   },
   "file_extension": ".py",
   "mimetype": "text/x-python",
   "name": "python",
   "nbconvert_exporter": "python",
   "pygments_lexer": "ipython3",
   "version": "3.9.15"
  }
 },
 "nbformat": 4,
 "nbformat_minor": 5
}
