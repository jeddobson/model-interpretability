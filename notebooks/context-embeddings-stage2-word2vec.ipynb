{
 "cells": [
  {
   "cell_type": "code",
   "execution_count": null,
   "id": "ade56d4e",
   "metadata": {},
   "outputs": [],
   "source": [
    "import nltk\n",
    "from nltk.tokenize import word_tokenize, sent_tokenize\n",
    "from gensim.models import FastText\n",
    "import numpy as np"
   ]
  },
  {
   "cell_type": "code",
   "execution_count": null,
   "id": "ee380f4b",
   "metadata": {},
   "outputs": [],
   "source": [
    "fp = open(\"../texts/deephaven.txt\").read()\n",
    "sentences = sent_tokenize(fp)\n",
    "sentences = [word_tokenize(s) for s in sentences]\n",
    "sentences = [[t.lower() for t in s] for s in sentences]"
   ]
  },
  {
   "cell_type": "code",
   "execution_count": null,
   "id": "36171427",
   "metadata": {},
   "outputs": [],
   "source": [
    "model = FastText(sentences,min_count=2)"
   ]
  },
  {
   "cell_type": "code",
   "execution_count": null,
   "id": "cb25fcd7",
   "metadata": {},
   "outputs": [],
   "source": [
    "model.wv.most_similar(\"town\")"
   ]
  },
  {
   "cell_type": "code",
   "execution_count": null,
   "id": "39ccbd8c",
   "metadata": {},
   "outputs": [],
   "source": [
    "from gensim.models import KeyedVectors\n",
    "google_model = KeyedVectors.load_word2vec_format(\"../models/google-vectors.w2v\",binary=True)"
   ]
  },
  {
   "cell_type": "code",
   "execution_count": null,
   "id": "6eb5c872",
   "metadata": {},
   "outputs": [],
   "source": [
    "vocab = list(google_model.key_to_index.keys())"
   ]
  },
  {
   "cell_type": "code",
   "execution_count": null,
   "id": "090cf8b5",
   "metadata": {},
   "outputs": [],
   "source": [
    "types = list(set([t for s in sentences for t in s]))\n",
    "types = [t for t in types if t in vocab]\n",
    "embs = [google_model[t] for t in types]"
   ]
  },
  {
   "cell_type": "code",
   "execution_count": null,
   "id": "e114621b",
   "metadata": {},
   "outputs": [],
   "source": [
    "from sklearn.metrics.pairwise import cosine_similarity\n",
    "dist_matrix = 1 - cosine_similarity(embs)"
   ]
  },
  {
   "cell_type": "code",
   "execution_count": null,
   "id": "32ffc01a",
   "metadata": {},
   "outputs": [],
   "source": [
    "for i in np.argsort(dist_matrix[types.index(\"town\")])[:25]:\n",
    "    print(types[i])"
   ]
  },
  {
   "cell_type": "code",
   "execution_count": null,
   "id": "168452d6",
   "metadata": {},
   "outputs": [],
   "source": [
    "from sklearn.decomposition import PCA\n",
    "from matplotlib import pyplot as plt"
   ]
  },
  {
   "cell_type": "code",
   "execution_count": null,
   "id": "68023cce",
   "metadata": {},
   "outputs": [],
   "source": [
    "pca = PCA(n_components = 2)\n",
    "\n",
    "neighbor_types = [types[t] for t in np.argsort(dist_matrix[types.index(\"town\")])[:25]]\n",
    "neighbor_embs = [google_model[t] for t in neighbor_types]\n",
    "\n",
    "plot_data = pca.fit_transform(neighbor_embs)\n",
    "xs, ys = plot_data[:, 0], plot_data[:, 1]\n",
    "\n",
    "fig = plt.figure(figsize=(20, 15))\n",
    "plt.clf()\n",
    "plt.title(\"PCA Neighboring Terms for 'town'\")\n",
    "plt.style.use('ggplot')\n",
    "plt.scatter(xs, ys, marker = '^')\n",
    "for i, w in enumerate(neighbor_types):\n",
    "     plt.annotate(w, xy = (xs[i], ys[i]), xytext = (3, 3),\n",
    "        textcoords = 'offset points', ha = 'left', va = 'top')\n",
    "plt.show()  "
   ]
  },
  {
   "cell_type": "code",
   "execution_count": null,
   "id": "d363698f",
   "metadata": {},
   "outputs": [],
   "source": []
  }
 ],
 "metadata": {
  "kernelspec": {
   "display_name": "Python 3 (ipykernel)",
   "language": "python",
   "name": "python3"
  },
  "language_info": {
   "codemirror_mode": {
    "name": "ipython",
    "version": 3
   },
   "file_extension": ".py",
   "mimetype": "text/x-python",
   "name": "python",
   "nbconvert_exporter": "python",
   "pygments_lexer": "ipython3",
   "version": "3.9.15"
  }
 },
 "nbformat": 4,
 "nbformat_minor": 5
}
