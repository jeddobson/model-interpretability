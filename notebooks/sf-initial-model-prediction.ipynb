{
 "cells": [
  {
   "cell_type": "code",
   "execution_count": 12,
   "id": "5f8295eb",
   "metadata": {},
   "outputs": [],
   "source": [
    "from htrc_features import FeatureReader\n",
    "import numpy as np\n",
    "import pandas as pd"
   ]
  },
  {
   "cell_type": "code",
   "execution_count": 13,
   "id": "6af5fb70",
   "metadata": {},
   "outputs": [],
   "source": [
    "def get_htrc_page_data(document):\n",
    "    fr = FeatureReader([document])\n",
    "    vol = next(fr.volumes())\n",
    "#     ptc = vol.tokenlist(pos=False, case=False).reset_index().drop(['section'], axis=1)\n",
    "    ptc = vol.tokenlist(pos=True, case=False).reset_index().drop(['section'], axis=1)\n",
    "#     ptc = ptc[ptc[\"pos\"] == \"NN\"]\n",
    "    ptc = ptc[ptc[\"pos\"] == \"VB\"]\n",
    "# make it only grab the pos you're interested in- either go into ht or make new cell, vol=\n",
    "    page_list = set(ptc['page'])\n",
    "    \n",
    "    # extract tokens by page \n",
    "    tokens=list()\n",
    "    for page in page_list:\n",
    "        page_data = str()\n",
    "        \n",
    "        # operate on each token\n",
    "        for page_tokens in ptc.loc[ptc['page'] == page].iterrows():\n",
    "            if page_tokens[1][1].isalpha():\n",
    "                \n",
    "                # deal with frequency count by creating correct number of tokens\n",
    "                page_data += (' '.join([page_tokens[1][1]] * page_tokens[1][3])) + \" \"\n",
    "\n",
    "        tokens.append(page_data.split())\n",
    "    return tokens"
   ]
  },
  {
   "cell_type": "code",
   "execution_count": 14,
   "id": "5a31ad0e",
   "metadata": {},
   "outputs": [],
   "source": [
    "# return bibliographic data\n",
    "def get_htrc_metadata(document):\n",
    "    fr = FeatureReader([document])\n",
    "    vol = next(fr.volumes())\n",
    "    return([vol.author[0],vol.title,vol.year])"
   ]
  },
  {
   "cell_type": "code",
   "execution_count": 15,
   "id": "7e5aeba6",
   "metadata": {},
   "outputs": [],
   "source": [
    "# htids for two classes, 7 training texts each\n",
    "hard_sf = [\"mdp.39015013433738\", \"mdp.39015025286538\", \"uc1.32106007713453\", \"uc1.32106012964117\", \"mdp.39015020680461\", \"pst.000029273768\", \"mdp.39015013517985\"]\n",
    "soft_sf = [\"mdp.39015055883048\", \"mdp.39015040597794\", \"mdp.49015000529041\", \"mdp.49015002042977\", \"mdp.39015020645456\", \"inu.30000007203650\", \"mdp.39015054037372\"]"
   ]
  },
  {
   "cell_type": "code",
   "execution_count": 10,
   "id": "7d7d1aa5",
   "metadata": {},
   "outputs": [],
   "source": [
    "# # htids for two classes, ten training texts each\n",
    "# hard_sf = [\"mdp.39015013433738\", \"mdp.39015025286538\", \"uc1.32106007713453\", \"uc1.32106012964117\", \"mdp.39015020680461\", \"pst.000029273768\", \"mdp.39015013517985\"]\n",
    "# soft_sf  = [\"mdp.39015055883048\", \"mdp.39015040597794\", \"mdp.49015000529041\", \"mdp.49015002042977\", \"mdp.39015020645456\", \"inu.30000007203650\", \"mdp.39015054037372\"]\n"
   ]
  },
  {
   "cell_type": "code",
   "execution_count": 11,
   "id": "7858a193",
   "metadata": {},
   "outputs": [],
   "source": [
    "# # htids for two classes \n",
    "# hard_sf = [\"mdp.39015038888775\", \"pst.000027847633\", \"mdp.39015013517985\", \"mdp.39015020680461\", \"mdp.39015020690858\", \"pst.000029273768\", \"mdp.39015013433738\", \"mdp.39015013534014\", \"mdp.39015012435791\", \"pst.000059688501\"]\n",
    "# soft_sf = [\"mdp.39015020645456\", \"mdp.39015003922005\", \"mdp.39015000244775\", \"mdp.39015047597136\",  \"mdp.49015000529041\",  \"mdp.49015003071447\", \"inu.30000004080028\", \"mdp.39015005320745\", \"mdp.39015054037372\", \"pst.000011824909\"]\n",
    "# # #\"ppt.ssfcbz201710000391\", \"uiug.30112077272364\", \"ppt.ssfcbz201710000347\",\n",
    "# # # \"pst.000011824909\", \"mdp.39015005320745\", \"uiug.30112061864242\""
   ]
  },
  {
   "cell_type": "code",
   "execution_count": 12,
   "id": "e72c7555",
   "metadata": {},
   "outputs": [],
   "source": [
    "# # # htids for two classes [more texts]\n",
    "# hard_sf = [\"mdp.39015038888775\", \"pst.000027847633\", \"mdp.39015013517985\", \"mdp.39015020680461\", \"mdp.39015020690858\", \"pst.000029273768\", \"mdp.39015013433738\", \"mdp.39015056817003\", \"mdp.39015012435791\", \"pst.000059688501\", \"mdp.39015025252100\", \"uc1.32106007713453\", \"uc1.32106012964117\", \"mdp.39015025286538\", \"mdp.39015041888606\"]\n",
    "# soft_sf = [\"mdp.39015020645456\", \"mdp.39015003922005\", \"mdp.39015000244775\", \"mdp.39015000244775\", \"pst.000011824909\", \"mdp.49015000529041\", \"mdp.39015005320745\", \"mdp.49015003071447\", \"inu.30000004080028\", \"mdp.39015054037372\", \"mdp.39015040597794\", \"mdp.39015002289877\", \"mdp.39015055883048\", \"inu.30000007203650\", \"mdp.49015002042977\"]"
   ]
  },
  {
   "cell_type": "code",
   "execution_count": 16,
   "id": "1e3f1274",
   "metadata": {},
   "outputs": [],
   "source": [
    "all_texts = hard_sf + soft_sf"
   ]
  },
  {
   "cell_type": "code",
   "execution_count": 17,
   "id": "244ae9b3",
   "metadata": {},
   "outputs": [],
   "source": [
    "# create labels for classifier\n",
    "labels = [\"hard\"] * len(hard_sf) + [\"soft\"] * len(soft_sf)"
   ]
  },
  {
   "cell_type": "code",
   "execution_count": 18,
   "id": "f431a5f5",
   "metadata": {},
   "outputs": [],
   "source": [
    "md = pd.DataFrame([get_htrc_metadata(text) for text in all_texts])\n",
    "md.columns={\"Author\",\"Title\",\"Pub Year\"}\n",
    "md['label'] = labels"
   ]
  },
  {
   "cell_type": "code",
   "execution_count": 34,
   "id": "115582bc",
   "metadata": {
    "scrolled": true
   },
   "outputs": [
    {
     "data": {
      "text/html": [
       "<div>\n",
       "<style scoped>\n",
       "    .dataframe tbody tr th:only-of-type {\n",
       "        vertical-align: middle;\n",
       "    }\n",
       "\n",
       "    .dataframe tbody tr th {\n",
       "        vertical-align: top;\n",
       "    }\n",
       "\n",
       "    .dataframe thead th {\n",
       "        text-align: right;\n",
       "    }\n",
       "</style>\n",
       "<table border=\"1\" class=\"dataframe\">\n",
       "  <thead>\n",
       "    <tr style=\"text-align: right;\">\n",
       "      <th></th>\n",
       "      <th>Author</th>\n",
       "      <th>Title</th>\n",
       "      <th>Pub Year</th>\n",
       "      <th>label</th>\n",
       "    </tr>\n",
       "  </thead>\n",
       "  <tbody>\n",
       "    <tr>\n",
       "      <th>0</th>\n",
       "      <td>Clement, Hal, 1922-2003.</td>\n",
       "      <td>Mission of gravity /</td>\n",
       "      <td>1978</td>\n",
       "      <td>hard</td>\n",
       "    </tr>\n",
       "    <tr>\n",
       "      <th>1</th>\n",
       "      <td>Brin, David.</td>\n",
       "      <td>Startide rising /</td>\n",
       "      <td>1988</td>\n",
       "      <td>hard</td>\n",
       "    </tr>\n",
       "    <tr>\n",
       "      <th>2</th>\n",
       "      <td>Lem, Stanisław.</td>\n",
       "      <td>Fiasco /</td>\n",
       "      <td>1987</td>\n",
       "      <td>hard</td>\n",
       "    </tr>\n",
       "    <tr>\n",
       "      <th>3</th>\n",
       "      <td>Clarke, Arthur C. (Arthur Charles), 1917-2008</td>\n",
       "      <td>Rendezvous with Rama /</td>\n",
       "      <td>1973</td>\n",
       "      <td>hard</td>\n",
       "    </tr>\n",
       "    <tr>\n",
       "      <th>4</th>\n",
       "      <td>Clarke, Arthur C. (Arthur Charles), 1917-2008</td>\n",
       "      <td>A fall of moondust.</td>\n",
       "      <td>1961</td>\n",
       "      <td>hard</td>\n",
       "    </tr>\n",
       "    <tr>\n",
       "      <th>5</th>\n",
       "      <td>Niven, Larry.</td>\n",
       "      <td>Ringworld : a novel /</td>\n",
       "      <td>1970</td>\n",
       "      <td>hard</td>\n",
       "    </tr>\n",
       "    <tr>\n",
       "      <th>6</th>\n",
       "      <td>Hoyle, Fred, Sir.</td>\n",
       "      <td>The black cloud /</td>\n",
       "      <td>1960</td>\n",
       "      <td>hard</td>\n",
       "    </tr>\n",
       "    <tr>\n",
       "      <th>7</th>\n",
       "      <td>Card, Orson Scott.</td>\n",
       "      <td>Ender's game /</td>\n",
       "      <td>1991</td>\n",
       "      <td>soft</td>\n",
       "    </tr>\n",
       "    <tr>\n",
       "      <th>8</th>\n",
       "      <td>Keyes, Daniel.</td>\n",
       "      <td>Flowers for Algernon,</td>\n",
       "      <td>1966</td>\n",
       "      <td>soft</td>\n",
       "    </tr>\n",
       "    <tr>\n",
       "      <th>9</th>\n",
       "      <td>Sturgeon, Theodore.</td>\n",
       "      <td>More than human /</td>\n",
       "      <td>1988</td>\n",
       "      <td>soft</td>\n",
       "    </tr>\n",
       "    <tr>\n",
       "      <th>10</th>\n",
       "      <td>Kress, Nancy.</td>\n",
       "      <td>The aliens of earth /</td>\n",
       "      <td>1993</td>\n",
       "      <td>soft</td>\n",
       "    </tr>\n",
       "    <tr>\n",
       "      <th>11</th>\n",
       "      <td>Bradbury, Ray, 1920-2012.</td>\n",
       "      <td>Fahrenheit 451.</td>\n",
       "      <td>1967</td>\n",
       "      <td>soft</td>\n",
       "    </tr>\n",
       "    <tr>\n",
       "      <th>12</th>\n",
       "      <td>Bradbury, Ray, 1920-</td>\n",
       "      <td>The day it rained forever.</td>\n",
       "      <td>1959</td>\n",
       "      <td>soft</td>\n",
       "    </tr>\n",
       "    <tr>\n",
       "      <th>13</th>\n",
       "      <td>Butler, Octavia E.</td>\n",
       "      <td>Wild seed /</td>\n",
       "      <td>1980</td>\n",
       "      <td>soft</td>\n",
       "    </tr>\n",
       "  </tbody>\n",
       "</table>\n",
       "</div>"
      ],
      "text/plain": [
       "                                           Author                       Title  \\\n",
       "0                        Clement, Hal, 1922-2003.        Mission of gravity /   \n",
       "1                                    Brin, David.           Startide rising /   \n",
       "2                                 Lem, Stanisław.                    Fiasco /   \n",
       "3   Clarke, Arthur C. (Arthur Charles), 1917-2008      Rendezvous with Rama /   \n",
       "4   Clarke, Arthur C. (Arthur Charles), 1917-2008         A fall of moondust.   \n",
       "5                                   Niven, Larry.       Ringworld : a novel /   \n",
       "6                               Hoyle, Fred, Sir.           The black cloud /   \n",
       "7                              Card, Orson Scott.              Ender's game /   \n",
       "8                                  Keyes, Daniel.       Flowers for Algernon,   \n",
       "9                             Sturgeon, Theodore.           More than human /   \n",
       "10                                  Kress, Nancy.       The aliens of earth /   \n",
       "11                      Bradbury, Ray, 1920-2012.             Fahrenheit 451.   \n",
       "12                           Bradbury, Ray, 1920-  The day it rained forever.   \n",
       "13                             Butler, Octavia E.                 Wild seed /   \n",
       "\n",
       "    Pub Year label  \n",
       "0       1978  hard  \n",
       "1       1988  hard  \n",
       "2       1987  hard  \n",
       "3       1973  hard  \n",
       "4       1961  hard  \n",
       "5       1970  hard  \n",
       "6       1960  hard  \n",
       "7       1991  soft  \n",
       "8       1966  soft  \n",
       "9       1988  soft  \n",
       "10      1993  soft  \n",
       "11      1967  soft  \n",
       "12      1959  soft  \n",
       "13      1980  soft  "
      ]
     },
     "execution_count": 34,
     "metadata": {},
     "output_type": "execute_result"
    }
   ],
   "source": [
    "md"
   ]
  },
  {
   "cell_type": "code",
   "execution_count": 35,
   "id": "b59936d7",
   "metadata": {},
   "outputs": [
    {
     "data": {
      "text/html": [
       "<div>\n",
       "<style scoped>\n",
       "    .dataframe tbody tr th:only-of-type {\n",
       "        vertical-align: middle;\n",
       "    }\n",
       "\n",
       "    .dataframe tbody tr th {\n",
       "        vertical-align: top;\n",
       "    }\n",
       "\n",
       "    .dataframe thead th {\n",
       "        text-align: right;\n",
       "    }\n",
       "</style>\n",
       "<table border=\"1\" class=\"dataframe\">\n",
       "  <thead>\n",
       "    <tr style=\"text-align: right;\">\n",
       "      <th></th>\n",
       "      <th>Author</th>\n",
       "      <th>Title</th>\n",
       "      <th>Pub Year</th>\n",
       "    </tr>\n",
       "  </thead>\n",
       "  <tbody>\n",
       "    <tr>\n",
       "      <th>0</th>\n",
       "      <td>Card, Orson Scott.</td>\n",
       "      <td>Ender's game /</td>\n",
       "      <td>1991</td>\n",
       "    </tr>\n",
       "    <tr>\n",
       "      <th>1</th>\n",
       "      <td>Atwood, Margaret, 1939-</td>\n",
       "      <td>The Handmaid's tale /</td>\n",
       "      <td>2006</td>\n",
       "    </tr>\n",
       "    <tr>\n",
       "      <th>2</th>\n",
       "      <td>Gibson, William, 1948-</td>\n",
       "      <td>Neuromancer /</td>\n",
       "      <td>1986</td>\n",
       "    </tr>\n",
       "    <tr>\n",
       "      <th>3</th>\n",
       "      <td>Adams, Douglas, 1952-2001.</td>\n",
       "      <td>The restaurant at the end of the universe /</td>\n",
       "      <td>1981</td>\n",
       "    </tr>\n",
       "    <tr>\n",
       "      <th>4</th>\n",
       "      <td>Sagan, Carl, 1934-1996.</td>\n",
       "      <td>Contact : a novel /</td>\n",
       "      <td>1985</td>\n",
       "    </tr>\n",
       "    <tr>\n",
       "      <th>5</th>\n",
       "      <td>Moore, Alan, 1953-</td>\n",
       "      <td>Watchmen /</td>\n",
       "      <td>1986</td>\n",
       "    </tr>\n",
       "    <tr>\n",
       "      <th>6</th>\n",
       "      <td>Clarke, Arthur C. (Arthur Charles), 1917-2008</td>\n",
       "      <td>2010, odyssey two /</td>\n",
       "      <td>1982</td>\n",
       "    </tr>\n",
       "    <tr>\n",
       "      <th>7</th>\n",
       "      <td>Brin, David.</td>\n",
       "      <td>The postman /</td>\n",
       "      <td>1985</td>\n",
       "    </tr>\n",
       "  </tbody>\n",
       "</table>\n",
       "</div>"
      ],
      "text/plain": [
       "                                          Author  \\\n",
       "0                             Card, Orson Scott.   \n",
       "1                        Atwood, Margaret, 1939-   \n",
       "2                         Gibson, William, 1948-   \n",
       "3                     Adams, Douglas, 1952-2001.   \n",
       "4                        Sagan, Carl, 1934-1996.   \n",
       "5                             Moore, Alan, 1953-   \n",
       "6  Clarke, Arthur C. (Arthur Charles), 1917-2008   \n",
       "7                                   Brin, David.   \n",
       "\n",
       "                                         Title  Pub Year  \n",
       "0                               Ender's game /      1991  \n",
       "1                        The Handmaid's tale /      2006  \n",
       "2                                Neuromancer /      1986  \n",
       "3  The restaurant at the end of the universe /      1981  \n",
       "4                          Contact : a novel /      1985  \n",
       "5                                   Watchmen /      1986  \n",
       "6                          2010, odyssey two /      1982  \n",
       "7                                The postman /      1985  "
      ]
     },
     "execution_count": 35,
     "metadata": {},
     "output_type": "execute_result"
    }
   ],
   "source": [
    "# https://www.goodreads.com/list/show/42417.Classic_Science_Fiction_1980_1989\n",
    "test = [\"hvd.32044072365117\",\"pst.000064238685\",\"pst.000022355218\",\"mdp.39015013939874\",\"mdp.39015038888775\",\n",
    "        \"mdp.39015027480519\",\"uc1.31822007175888\",\"mdp.39015021474286\"] \n",
    "\n",
    "testdf = pd.DataFrame([get_htrc_metadata(text) for text in test])\n",
    "testdf.columns={\"Author\",\"Title\",\"Pub Year\"}\n",
    "testdf"
   ]
  },
  {
   "cell_type": "code",
   "execution_count": 19,
   "id": "3369b1b8",
   "metadata": {},
   "outputs": [
    {
     "data": {
      "text/html": [
       "<div>\n",
       "<style scoped>\n",
       "    .dataframe tbody tr th:only-of-type {\n",
       "        vertical-align: middle;\n",
       "    }\n",
       "\n",
       "    .dataframe tbody tr th {\n",
       "        vertical-align: top;\n",
       "    }\n",
       "\n",
       "    .dataframe thead th {\n",
       "        text-align: right;\n",
       "    }\n",
       "</style>\n",
       "<table border=\"1\" class=\"dataframe\">\n",
       "  <thead>\n",
       "    <tr style=\"text-align: right;\">\n",
       "      <th></th>\n",
       "      <th>Pub Year</th>\n",
       "      <th>Title</th>\n",
       "      <th>Author</th>\n",
       "    </tr>\n",
       "  </thead>\n",
       "  <tbody>\n",
       "    <tr>\n",
       "      <th>0</th>\n",
       "      <td>Forward, Robert L.</td>\n",
       "      <td>Dragon's egg /</td>\n",
       "      <td>1980</td>\n",
       "    </tr>\n",
       "    <tr>\n",
       "      <th>1</th>\n",
       "      <td>Sagan, Carl, 1934-1996.</td>\n",
       "      <td>Contact : a novel /</td>\n",
       "      <td>1985</td>\n",
       "    </tr>\n",
       "    <tr>\n",
       "      <th>2</th>\n",
       "      <td>Asimov, Isaac, 1920-1992</td>\n",
       "      <td>Foundation.</td>\n",
       "      <td>1951</td>\n",
       "    </tr>\n",
       "    <tr>\n",
       "      <th>3</th>\n",
       "      <td>Huxley, Aldous, 1894-1963.</td>\n",
       "      <td>Brave new world : a novel by Aldous Huxley.</td>\n",
       "      <td>1932</td>\n",
       "    </tr>\n",
       "    <tr>\n",
       "      <th>4</th>\n",
       "      <td>Anderson, Poul, 1926-2001.</td>\n",
       "      <td>Tau zero /</td>\n",
       "      <td>1970</td>\n",
       "    </tr>\n",
       "    <tr>\n",
       "      <th>5</th>\n",
       "      <td>Gibson, William, 1948-</td>\n",
       "      <td>Neuromancer /</td>\n",
       "      <td>1986</td>\n",
       "    </tr>\n",
       "    <tr>\n",
       "      <th>6</th>\n",
       "      <td>Le Guin, Ursula K., 1929-2018.</td>\n",
       "      <td>The dispossessed; an ambiguous Utopia</td>\n",
       "      <td>1975</td>\n",
       "    </tr>\n",
       "    <tr>\n",
       "      <th>7</th>\n",
       "      <td>Lem, Stanisław.</td>\n",
       "      <td>Solaris.</td>\n",
       "      <td>1970</td>\n",
       "    </tr>\n",
       "    <tr>\n",
       "      <th>8</th>\n",
       "      <td>Butler, Octavia E.</td>\n",
       "      <td>Patternmaster /</td>\n",
       "      <td>1976</td>\n",
       "    </tr>\n",
       "    <tr>\n",
       "      <th>9</th>\n",
       "      <td>Tepper, Sheri S.</td>\n",
       "      <td>Grass /</td>\n",
       "      <td>1990</td>\n",
       "    </tr>\n",
       "    <tr>\n",
       "      <th>10</th>\n",
       "      <td>Miller, Walter M., 1923-</td>\n",
       "      <td>A canticle for Leibowitz: a novel.</td>\n",
       "      <td>1960</td>\n",
       "    </tr>\n",
       "    <tr>\n",
       "      <th>11</th>\n",
       "      <td>Atwood, Margaret, 1939-</td>\n",
       "      <td>The Handmaid's tale /</td>\n",
       "      <td>2006</td>\n",
       "    </tr>\n",
       "  </tbody>\n",
       "</table>\n",
       "</div>"
      ],
      "text/plain": [
       "                          Pub Year  \\\n",
       "0               Forward, Robert L.   \n",
       "1          Sagan, Carl, 1934-1996.   \n",
       "2         Asimov, Isaac, 1920-1992   \n",
       "3       Huxley, Aldous, 1894-1963.   \n",
       "4       Anderson, Poul, 1926-2001.   \n",
       "5           Gibson, William, 1948-   \n",
       "6   Le Guin, Ursula K., 1929-2018.   \n",
       "7                  Lem, Stanisław.   \n",
       "8               Butler, Octavia E.   \n",
       "9                 Tepper, Sheri S.   \n",
       "10        Miller, Walter M., 1923-   \n",
       "11         Atwood, Margaret, 1939-   \n",
       "\n",
       "                                          Title  Author  \n",
       "0                                Dragon's egg /    1980  \n",
       "1                           Contact : a novel /    1985  \n",
       "2                                   Foundation.    1951  \n",
       "3   Brave new world : a novel by Aldous Huxley.    1932  \n",
       "4                                    Tau zero /    1970  \n",
       "5                                 Neuromancer /    1986  \n",
       "6         The dispossessed; an ambiguous Utopia    1975  \n",
       "7                                      Solaris.    1970  \n",
       "8                               Patternmaster /    1976  \n",
       "9                                       Grass /    1990  \n",
       "10           A canticle for Leibowitz: a novel.    1960  \n",
       "11                        The Handmaid's tale /    2006  "
      ]
     },
     "execution_count": 19,
     "metadata": {},
     "output_type": "execute_result"
    }
   ],
   "source": [
    "# new testing set\n",
    "test = [\"mdp.39015025252100\", \"mdp.39015038888775\", \"pst.000059688501\", \"pst.000027847633\", \"mdp.39015012435791\", \"pst.000022355218\", \"mdp.39015000244775\", \"mdp.39015002969064\", \"mdp.39015046878727\", \"uc1.32106010337274\", \"mdp.39015000611528\", \"pst.000064238685\"] \n",
    "\n",
    "testdf = pd.DataFrame([get_htrc_metadata(text) for text in test])\n",
    "testdf.columns={\"Author\",\"Title\",\"Pub Year\"}\n",
    "testdf"
   ]
  },
  {
   "cell_type": "code",
   "execution_count": 25,
   "id": "2108521b",
   "metadata": {},
   "outputs": [],
   "source": [
    "# construct text for consumption into dtm\n",
    "raw_data = list()\n",
    "for doc in hard_sf + soft_sf:\n",
    "    page_data = get_htrc_page_data(doc)\n",
    "    tokens = ' '.join([w for p in page_data for w in p])\n",
    "    raw_data.append(tokens)"
   ]
  },
  {
   "cell_type": "code",
   "execution_count": 21,
   "id": "357f8f88",
   "metadata": {},
   "outputs": [],
   "source": [
    "from sklearn.feature_extraction.text import CountVectorizer\n",
    "vec = CountVectorizer(input='content',\n",
    "                             stop_words='english',\n",
    "                             strip_accents='unicode')"
   ]
  },
  {
   "cell_type": "code",
   "execution_count": 26,
   "id": "a6ff5d0d",
   "metadata": {},
   "outputs": [],
   "source": [
    "dtm = vec.fit_transform(raw_data)"
   ]
  },
  {
   "cell_type": "code",
   "execution_count": 27,
   "id": "249b3f2c",
   "metadata": {},
   "outputs": [
    {
     "data": {
      "text/plain": [
       "(14, 2214)"
      ]
     },
     "execution_count": 27,
     "metadata": {},
     "output_type": "execute_result"
    }
   ],
   "source": [
    "dtm.shape\n",
    "# large sparse matrix: 17,41229"
   ]
  },
  {
   "cell_type": "code",
   "execution_count": 28,
   "id": "7505e881",
   "metadata": {},
   "outputs": [
    {
     "data": {
      "image/png": "[encoded data removed]",
      "text/plain": [
       "<Figure size 432x288 with 1 Axes>"
      ]
     },
     "metadata": {
      "needs_background": "light"
     },
     "output_type": "display_data"
    }
   ],
   "source": [
    "# T-SNE\n",
    "import matplotlib.pyplot as plt\n",
    "from sklearn.manifold import TSNE\n",
    "\n",
    "# fig = plt.figure(figsize=(35, 20), dpi=75)\n",
    "plot = TSNE(n_components=2, learning_rate='auto',\n",
    "            init='random', \n",
    "            perplexity=3).fit_transform(dtm)\n",
    "\n",
    "\n",
    "for i,[x, y, label,htid] in enumerate(zip(plot[:,0], plot[:,1], labels,all_texts)):\n",
    "\n",
    "    \n",
    "# for x, y, label,htid in zip(plot[:,0], plot[:,1], labels,all_texts):\n",
    "    \n",
    "    # enumerate, for i in {zip}\n",
    "    \n",
    "    if label == \"hard\":\n",
    "        plt.scatter(x, y, c='green',s=6)\n",
    "    else:\n",
    "        plt.scatter(x, y, c='red',s=6)\n",
    "    plt.text(x, y, i, c='blue', ha='center', va='top')"
   ]
  },
  {
   "cell_type": "code",
   "execution_count": 29,
   "id": "3d624cff",
   "metadata": {},
   "outputs": [
    {
     "data": {
      "image/png": "[encoded data removed]",
      "text/plain": [
       "<Figure size 432x288 with 1 Axes>"
      ]
     },
     "metadata": {
      "needs_background": "light"
     },
     "output_type": "display_data"
    }
   ],
   "source": [
    "# MDS\n",
    "\n",
    "# fig = plt.figure(figsize=(35, 20), dpi=75)\n",
    "\n",
    "from sklearn.manifold import MDS\n",
    "mds = MDS(n_components=2, random_state=1)\n",
    "plot = mds.fit_transform(dtm.toarray())\n",
    "for x, y, label,htid in zip(plot[:,0], plot[:,1], labels,all_texts):\n",
    "    if label == \"hard\":\n",
    "        plt.scatter(x, y, c='lightgrey',s=6)\n",
    "    else:\n",
    "        plt.scatter(x, y, c='red',s=6)\n",
    "    plt.text(x, y, label, c='blue', ha='center', va='top')"
   ]
  },
  {
   "cell_type": "code",
   "execution_count": 30,
   "id": "c9a0b65c",
   "metadata": {},
   "outputs": [],
   "source": [
    "from sklearn.linear_model import SGDClassifier\n",
    "from sklearn import metrics\n",
    "\n",
    "clf = SGDClassifier(tol=None,max_iter=1000,random_state=42).fit(dtm,labels)"
   ]
  },
  {
   "cell_type": "code",
   "execution_count": 31,
   "id": "0e263f0b",
   "metadata": {},
   "outputs": [
    {
     "data": {
      "text/plain": [
       "<AxesSubplot:title={'center':'Key Features: Hard'}>"
      ]
     },
     "execution_count": 31,
     "metadata": {},
     "output_type": "execute_result"
    },
    {
     "data": {
      "image/png": "[encoded data removed]",
      "text/plain": [
       "<Figure size 1440x360 with 1 Axes>"
      ]
     },
     "metadata": {
      "needs_background": "light"
     },
     "output_type": "display_data"
    }
   ],
   "source": [
    "df = pd.DataFrame([clf.coef_[0][idx] for idx in np.argsort(clf.coef_[0])[::-1][:40]],\n",
    "                  index = [vec.get_feature_names_out()[idx] for idx in np.argsort(clf.coef_[0])[:40]])\n",
    "df.plot(figsize=(20, 5),kind='bar',title='Key Features: Hard',legend=False)\n",
    "\n",
    "# would be interesting to remove things like character names/spec pos tags \n",
    "# expand collections \n",
    "# semantic meaning: presence of word/repetitions"
   ]
  },
  {
   "cell_type": "code",
   "execution_count": 32,
   "id": "3b1f5499",
   "metadata": {},
   "outputs": [
    {
     "data": {
      "text/plain": [
       "<AxesSubplot:title={'center':'Key Features: Soft'}>"
      ]
     },
     "execution_count": 32,
     "metadata": {},
     "output_type": "execute_result"
    },
    {
     "data": {
      "image/png": "[encoded data removed]",
      "text/plain": [
       "<Figure size 1440x360 with 1 Axes>"
      ]
     },
     "metadata": {
      "needs_background": "light"
     },
     "output_type": "display_data"
    }
   ],
   "source": [
    "df = pd.DataFrame([clf.coef_[0][idx] for idx in np.argsort(clf.coef_[0])[::-1][:40]],\n",
    "                  index = [vec.get_feature_names_out()[idx] for idx in np.argsort(clf.coef_[0])[2214-40:2214]])\n",
    "df.plot(figsize=(20, 5),kind='bar',title='Key Features: Soft',legend=False)"
   ]
  },
  {
   "cell_type": "code",
   "execution_count": 33,
   "id": "31acd334",
   "metadata": {},
   "outputs": [],
   "source": [
    "# construct text for consumption into dtm\n",
    "test_data = list()\n",
    "for doc in test:\n",
    "    page_data = get_htrc_page_data(doc)\n",
    "    tokens = ' '.join([w for p in page_data for w in p])\n",
    "    test_data.append(tokens)\n",
    "test_dtm = vec.transform(test_data)"
   ]
  },
  {
   "cell_type": "code",
   "execution_count": 34,
   "id": "73367934",
   "metadata": {},
   "outputs": [
    {
     "data": {
      "text/html": [
       "<div>\n",
       "<style scoped>\n",
       "    .dataframe tbody tr th:only-of-type {\n",
       "        vertical-align: middle;\n",
       "    }\n",
       "\n",
       "    .dataframe tbody tr th {\n",
       "        vertical-align: top;\n",
       "    }\n",
       "\n",
       "    .dataframe thead th {\n",
       "        text-align: right;\n",
       "    }\n",
       "</style>\n",
       "<table border=\"1\" class=\"dataframe\">\n",
       "  <thead>\n",
       "    <tr style=\"text-align: right;\">\n",
       "      <th></th>\n",
       "      <th>Pub Year</th>\n",
       "      <th>Title</th>\n",
       "      <th>Author</th>\n",
       "      <th>Predict</th>\n",
       "    </tr>\n",
       "  </thead>\n",
       "  <tbody>\n",
       "    <tr>\n",
       "      <th>0</th>\n",
       "      <td>Forward, Robert L.</td>\n",
       "      <td>Dragon's egg /</td>\n",
       "      <td>1980</td>\n",
       "      <td>hard</td>\n",
       "    </tr>\n",
       "    <tr>\n",
       "      <th>1</th>\n",
       "      <td>Sagan, Carl, 1934-1996.</td>\n",
       "      <td>Contact : a novel /</td>\n",
       "      <td>1985</td>\n",
       "      <td>hard</td>\n",
       "    </tr>\n",
       "    <tr>\n",
       "      <th>2</th>\n",
       "      <td>Asimov, Isaac, 1920-1992</td>\n",
       "      <td>Foundation.</td>\n",
       "      <td>1951</td>\n",
       "      <td>hard</td>\n",
       "    </tr>\n",
       "    <tr>\n",
       "      <th>3</th>\n",
       "      <td>Huxley, Aldous, 1894-1963.</td>\n",
       "      <td>Brave new world : a novel by Aldous Huxley.</td>\n",
       "      <td>1932</td>\n",
       "      <td>soft</td>\n",
       "    </tr>\n",
       "    <tr>\n",
       "      <th>4</th>\n",
       "      <td>Anderson, Poul, 1926-2001.</td>\n",
       "      <td>Tau zero /</td>\n",
       "      <td>1970</td>\n",
       "      <td>hard</td>\n",
       "    </tr>\n",
       "    <tr>\n",
       "      <th>5</th>\n",
       "      <td>Gibson, William, 1948-</td>\n",
       "      <td>Neuromancer /</td>\n",
       "      <td>1986</td>\n",
       "      <td>soft</td>\n",
       "    </tr>\n",
       "    <tr>\n",
       "      <th>6</th>\n",
       "      <td>Le Guin, Ursula K., 1929-2018.</td>\n",
       "      <td>The dispossessed; an ambiguous Utopia</td>\n",
       "      <td>1975</td>\n",
       "      <td>soft</td>\n",
       "    </tr>\n",
       "    <tr>\n",
       "      <th>7</th>\n",
       "      <td>Lem, Stanisław.</td>\n",
       "      <td>Solaris.</td>\n",
       "      <td>1970</td>\n",
       "      <td>soft</td>\n",
       "    </tr>\n",
       "    <tr>\n",
       "      <th>8</th>\n",
       "      <td>Butler, Octavia E.</td>\n",
       "      <td>Patternmaster /</td>\n",
       "      <td>1976</td>\n",
       "      <td>soft</td>\n",
       "    </tr>\n",
       "    <tr>\n",
       "      <th>9</th>\n",
       "      <td>Tepper, Sheri S.</td>\n",
       "      <td>Grass /</td>\n",
       "      <td>1990</td>\n",
       "      <td>soft</td>\n",
       "    </tr>\n",
       "    <tr>\n",
       "      <th>10</th>\n",
       "      <td>Miller, Walter M., 1923-</td>\n",
       "      <td>A canticle for Leibowitz: a novel.</td>\n",
       "      <td>1960</td>\n",
       "      <td>hard</td>\n",
       "    </tr>\n",
       "    <tr>\n",
       "      <th>11</th>\n",
       "      <td>Atwood, Margaret, 1939-</td>\n",
       "      <td>The Handmaid's tale /</td>\n",
       "      <td>2006</td>\n",
       "      <td>soft</td>\n",
       "    </tr>\n",
       "  </tbody>\n",
       "</table>\n",
       "</div>"
      ],
      "text/plain": [
       "                          Pub Year  \\\n",
       "0               Forward, Robert L.   \n",
       "1          Sagan, Carl, 1934-1996.   \n",
       "2         Asimov, Isaac, 1920-1992   \n",
       "3       Huxley, Aldous, 1894-1963.   \n",
       "4       Anderson, Poul, 1926-2001.   \n",
       "5           Gibson, William, 1948-   \n",
       "6   Le Guin, Ursula K., 1929-2018.   \n",
       "7                  Lem, Stanisław.   \n",
       "8               Butler, Octavia E.   \n",
       "9                 Tepper, Sheri S.   \n",
       "10        Miller, Walter M., 1923-   \n",
       "11         Atwood, Margaret, 1939-   \n",
       "\n",
       "                                          Title  Author Predict  \n",
       "0                                Dragon's egg /    1980    hard  \n",
       "1                           Contact : a novel /    1985    hard  \n",
       "2                                   Foundation.    1951    hard  \n",
       "3   Brave new world : a novel by Aldous Huxley.    1932    soft  \n",
       "4                                    Tau zero /    1970    hard  \n",
       "5                                 Neuromancer /    1986    soft  \n",
       "6         The dispossessed; an ambiguous Utopia    1975    soft  \n",
       "7                                      Solaris.    1970    soft  \n",
       "8                               Patternmaster /    1976    soft  \n",
       "9                                       Grass /    1990    soft  \n",
       "10           A canticle for Leibowitz: a novel.    1960    hard  \n",
       "11                        The Handmaid's tale /    2006    soft  "
      ]
     },
     "execution_count": 34,
     "metadata": {},
     "output_type": "execute_result"
    }
   ],
   "source": [
    "predicted_labels = clf.predict(test_dtm)\n",
    "testdf['Predict'] = predicted_labels\n",
    "testdf"
   ]
  },
  {
   "cell_type": "code",
   "execution_count": null,
   "id": "d46dafce",
   "metadata": {},
   "outputs": [],
   "source": []
  }
 ],
 "metadata": {
  "kernelspec": {
   "display_name": "Python 3 (ipykernel)",
   "language": "python",
   "name": "python3"
  },
  "language_info": {
   "codemirror_mode": {
    "name": "ipython",
    "version": 3
   },
   "file_extension": ".py",
   "mimetype": "text/x-python",
   "name": "python",
   "nbconvert_exporter": "python",
   "pygments_lexer": "ipython3",
   "version": "3.9.12"
  }
 },
 "nbformat": 4,
 "nbformat_minor": 5
}
